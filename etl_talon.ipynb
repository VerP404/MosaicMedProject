{
 "cells": [
  {
   "cell_type": "code",
   "execution_count": 19,
   "outputs": [],
   "source": [
    "from sqlalchemy import create_engine, text\n",
    "import pandas as pd\n",
    "from config.settings import DATABASES\n",
    "import datetime\n",
    "\n",
    "# Логирование времени\n",
    "start_time = datetime.datetime.now()\n",
    "print(f\"Начало процесса загрузки данных: {start_time}\")\n",
    "\n",
    "# Конфигурация таблиц и параметров\n",
    "table_name = \"data_loader_omsdata\"\n",
    "table_name_temp = \"temp_oms_data\"\n",
    "\n",
    "column_check = \"patient\"\n",
    "columns_for_update = ['talon', 'source']\n",
    "sep = ';'\n",
    "dtype = str\n",
    "encoding = 'utf-8'\n",
    "\n",
    "column_mapping = {\n",
    "    \"Талон\": \"talon\",\n",
    "    \"Источник\": \"source\",\n",
    "    \"Статус\": \"status\",\n",
    "    \"Цель\": \"goal\",\n",
    "    \"Пациент\": \"patient\",\n",
    "    \"Дата рождения\": \"birth_date\",\n",
    "    \"Пол\": \"gender\",\n",
    "    \"Код СМО\": \"smo_code\",\n",
    "    \"ЕНП\": \"enp\",\n",
    "    \"Начало лечения\": \"treatment_start\",\n",
    "    \"Окончание лечения\": \"treatment_end\",\n",
    "    \"Врач\": \"doctor\",\n",
    "    \"Посещения\": \"visits\",\n",
    "    \"Посещения в МО\": \"mo_visits\",\n",
    "    \"Посещения на Дому\": \"home_visits\",\n",
    "    \"Диагноз основной (DS1)\": \"main_diagnosis\",\n",
    "    \"Сопутствующий диагноз (DS2)\": \"additional_diagnosis\",\n",
    "    \"Первоначальная дата ввода\": \"initial_input_date\",\n",
    "    \"Дата последнего изменения\": \"last_change_date\",\n",
    "    \"Сумма\": \"amount\",\n",
    "    \"Санкции\": \"sanctions\",\n",
    "    \"КСГ\": \"ksg\",\n",
    "    \"Отчетный период выгрузки\": \"report_period\",\n",
    "}\n",
    "\n",
    "# Настройка подключения к базе данных\n",
    "postgres_settings = DATABASES['default']\n",
    "engine = create_engine(\n",
    "    f'postgresql://{postgres_settings[\"USER\"]}:{postgres_settings[\"PASSWORD\"]}@{postgres_settings[\"HOST\"]}:{postgres_settings[\"PORT\"]}/{postgres_settings[\"NAME\"]}'\n",
    ")\n",
    "\n",
    "# Счетчики для отслеживания процесса\n",
    "row_counts = {}\n",
    "\n",
    "# Подсчёт строк в основной таблице до обработки\n",
    "with engine.connect() as connection:\n",
    "    initial_count_query = f\"SELECT COUNT(*) FROM {table_name};\"\n",
    "    row_counts[\"before_processing\"] = connection.execute(text(initial_count_query)).scalar()\n",
    "\n",
    "print(f\"Количество строк в {table_name} до обработки: {row_counts['before_processing']}\")\n",
    "\n",
    "# Чтение CSV\n",
    "try:\n",
    "    df = pd.read_csv(r'C:\\Users\\frdro\\Downloads\\Telegram Desktop\\journal_20241004(2).csv', sep=sep, dtype=str, encoding=encoding)\n",
    "except Exception as e:\n",
    "    print(f\"Ошибка при чтении CSV: {e}\")\n",
    "    raise\n",
    "\n",
    "# Переименование и фильтрация столбцов\n",
    "df = df[list(column_mapping.keys())].rename(columns=column_mapping)\n",
    "df.dropna(subset=[column_check], inplace=True)\n",
    "df.fillna('-', inplace=True)\n",
    "df = df.replace('`', '', regex=True)\n",
    "df.replace('\\u00A0', ' ', regex=True, inplace=True)\n",
    "df = df.astype(str)\n",
    "\n",
    "# Удаление дубликатов из DataFrame\n",
    "df = df.drop_duplicates(subset=columns_for_update)\n",
    "\n",
    "# Подсчёт строк после чтения CSV\n",
    "row_counts[\"after_reading_csv\"] = len(df)\n",
    "print(f\"Количество строк в CSV после чтения и обработки: {row_counts['after_reading_csv']}\")\n",
    "\n",
    "# Проверка существования временной таблицы и её очистка\n",
    "with engine.connect() as connection:\n",
    "    exists = connection.execute(\n",
    "        text(f\"SELECT EXISTS (SELECT 1 FROM information_schema.tables WHERE table_name = '{table_name_temp}')\")\n",
    "    ).scalar()\n",
    "    if exists:\n",
    "        connection.execute(text(f\"TRUNCATE TABLE {table_name_temp};\"))\n",
    "        print(f\"Таблица {table_name_temp} очищена\")\n",
    "    else:\n",
    "        print(f\"Таблица {table_name_temp} отсутствует, будет создана автоматически при загрузке данных\")\n",
    "\n",
    "# Вставка новых данных во временную таблицу\n",
    "df.to_sql(table_name_temp, engine, if_exists='replace', index=False)\n",
    "\n",
    "# Создание индексов\n",
    "with engine.connect() as connection:\n",
    "    create_index_query = f\"\"\"\n",
    "    DO $$ BEGIN\n",
    "        IF NOT EXISTS (\n",
    "            SELECT 1 \n",
    "            FROM pg_indexes \n",
    "            WHERE schemaname = 'public' \n",
    "              AND tablename = '{table_name}' \n",
    "              AND indexname = 'idx_{table_name}_update'\n",
    "        ) THEN\n",
    "            CREATE INDEX idx_{table_name}_update\n",
    "            ON {table_name} ({', '.join(columns_for_update)});\n",
    "        END IF;\n",
    "    END $$;\n",
    "    \"\"\"\n",
    "    connection.execute(text(create_index_query))\n",
    "    print(\"Индекс создан для основной таблицы.\")\n",
    "\n",
    "# Вычисление строк для обновления и вставки\n",
    "with engine.connect() as connection:\n",
    "    rows_to_update_query = f\"\"\"\n",
    "    SELECT COUNT(*)\n",
    "    FROM {table_name_temp} AS temp\n",
    "    INNER JOIN {table_name} AS target\n",
    "    ON { ' AND '.join([f'temp.{col} = target.{col}' for col in columns_for_update]) }\n",
    "    \"\"\"\n",
    "    row_counts[\"to_update\"] = connection.execute(text(rows_to_update_query)).scalar()\n",
    "\n",
    "    rows_to_insert_query = f\"\"\"\n",
    "    SELECT COUNT(*)\n",
    "    FROM {table_name_temp} AS temp\n",
    "    LEFT JOIN {table_name} AS target\n",
    "    ON { ' AND '.join([f'temp.{col} = target.{col}' for col in columns_for_update]) }\n",
    "    WHERE target.{columns_for_update[0]} IS NULL\n",
    "    \"\"\"\n",
    "    row_counts[\"to_insert\"] = connection.execute(text(rows_to_insert_query)).scalar()\n",
    "\n",
    "print(f\"Количество строк для обновления: {row_counts['to_update']}\")\n",
    "print(f\"Количество строк для добавления: {row_counts['to_insert']}\")\n",
    "\n",
    "# Получение недостающих столбцов\n",
    "with engine.connect() as connection:\n",
    "    table_columns_query = f\"\"\"\n",
    "    SELECT column_name\n",
    "    FROM information_schema.columns\n",
    "    WHERE table_name = '{table_name}'\n",
    "    \"\"\"\n",
    "    table_columns = [row[0] for row in connection.execute(text(table_columns_query)).fetchall()]\n",
    "\n",
    "    temp_table_columns_query = f\"\"\"\n",
    "    SELECT column_name\n",
    "    FROM information_schema.columns\n",
    "    WHERE table_name = '{table_name_temp}'\n",
    "    \"\"\"\n",
    "    temp_table_columns = [row[0] for row in connection.execute(text(temp_table_columns_query)).fetchall()]\n",
    "\n",
    "missing_columns = [col for col in table_columns if col not in temp_table_columns and col != 'id']\n",
    "\n",
    "# Формирование и выполнение SQL-запроса\n",
    "merge_query = f\"\"\"\n",
    "INSERT INTO {table_name} ({', '.join(column_mapping.values()) + ', ' + ', '.join(missing_columns)})\n",
    "SELECT {', '.join(column_mapping.values())}, {', '.join([f\"'-' AS {col}\" for col in missing_columns])}\n",
    "FROM {table_name_temp}\n",
    "ON CONFLICT ({', '.join(columns_for_update)})\n",
    "DO UPDATE SET\n",
    "{', '.join([f\"{col} = EXCLUDED.{col}\" for col in column_mapping.values() if col not in columns_for_update])},\n",
    "{', '.join([f\"{col} = COALESCE(EXCLUDED.{col}, '-')\" for col in missing_columns])};\n",
    "\"\"\"\n",
    "\n",
    "# Удаляем символы новой строки\n",
    "merge_query = \" \".join(merge_query.split())\n",
    "\n",
    "\n",
    "try:\n",
    "    with engine.begin() as connection:\n",
    "        connection.execute(text(merge_query))\n",
    "\n",
    "    print(f\"Данные успешно вставлены/обновлены в таблице {table_name}.\")\n",
    "except Exception as e:\n",
    "    print(f\"Ошибка при выполнении merge-запроса: {e}\")\n",
    "# Подсчёт строк после обработки\n",
    "with engine.connect() as connection:\n",
    "    final_count_query = f\"SELECT COUNT(*) FROM {table_name};\"\n",
    "    row_counts[\"after_processing\"] = connection.execute(text(final_count_query)).scalar()\n",
    "\n",
    "print(f\"Количество строк в {table_name} после загрузки и обновления: {row_counts['after_processing']}\")\n",
    "\n",
    "# Итоговая статистика\n",
    "end_time = datetime.datetime.now()\n",
    "print(\"Итоговые показатели обработки:\")\n",
    "print(f\"1. Количество строк в {table_name} до обработки: {row_counts['before_processing']}\")\n",
    "print(f\"2. Количество строк в CSV после чтения и обработки: {row_counts['after_reading_csv']}\")\n",
    "print(f\"3. Количество строк обновленных в {table_name}: {row_counts['to_update']}\")\n",
    "print(f\"4. Количество строк добавленных в {table_name}: {row_counts['to_insert']}\")\n",
    "print(f\"5. Количество строк в {table_name} после загрузки и обновления: {row_counts['after_processing']}\")\n",
    "print(f\"Общее время выполнения: {end_time - start_time}\")\n"
   ],
   "metadata": {
    "collapsed": false,
    "ExecuteTime": {
     "end_time": "2025-01-15T21:47:41.273950500Z",
     "start_time": "2025-01-15T21:47:40.771699200Z"
    }
   },
   "id": "a9f4a739872e2bf8"
  },
  {
   "cell_type": "code",
   "execution_count": 20,
   "outputs": [],
   "source": [
    "from sqlalchemy import create_engine, text\n",
    "import pandas as pd\n",
    "from config.settings import DATABASES\n",
    "import datetime"
   ],
   "metadata": {
    "collapsed": false,
    "ExecuteTime": {
     "end_time": "2025-01-15T21:47:41.304949400Z",
     "start_time": "2025-01-15T21:47:41.195451600Z"
    }
   },
   "id": "462ff70b5f03c29e"
  },
  {
   "cell_type": "code",
   "execution_count": 21,
   "outputs": [],
   "source": [
    "# Настройки\n",
    "file_path = r'C:\\Users\\frdro\\Downloads\\Telegram Desktop\\journal_20241004(2).csv'\n",
    "table_name = \"data_loader_omsdata\"\n",
    "table_name_temp = \"temp_oms_data\"\n",
    "column_check = \"patient\"\n",
    "columns_for_update = ['talon', 'source']\n",
    "sep = ';'\n",
    "dtype = str\n",
    "encoding = 'utf-8'\n",
    "\n",
    "column_mapping = {\n",
    "    \"Талон\": \"talon\",\n",
    "    \"Источник\": \"source\",\n",
    "    \"Статус\": \"status\",\n",
    "    \"Цель\": \"goal\",\n",
    "    \"Пациент\": \"patient\",\n",
    "    \"Дата рождения\": \"birth_date\",\n",
    "    \"Пол\": \"gender\",\n",
    "    \"Код СМО\": \"smo_code\",\n",
    "    \"ЕНП\": \"enp\",\n",
    "    \"Начало лечения\": \"treatment_start\",\n",
    "    \"Окончание лечения\": \"treatment_end\",\n",
    "    \"Врач\": \"doctor\",\n",
    "    \"Посещения\": \"visits\",\n",
    "    \"Посещения в МО\": \"mo_visits\",\n",
    "    \"Посещения на Дому\": \"home_visits\",\n",
    "    \"Диагноз основной (DS1)\": \"main_diagnosis\",\n",
    "    \"Сопутствующий диагноз (DS2)\": \"additional_diagnosis\",\n",
    "    \"Первоначальная дата ввода\": \"initial_input_date\",\n",
    "    \"Дата последнего изменения\": \"last_change_date\",\n",
    "    \"Сумма\": \"amount\",\n",
    "    \"Санкции\": \"sanctions\",\n",
    "    \"КСГ\": \"ksg\",\n",
    "    \"Отчетный период выгрузки\": \"report_period\",\n",
    "}\n",
    "\n",
    "# Настройка подключения к базе данных\n",
    "postgres_settings = DATABASES['default']\n",
    "engine = create_engine(\n",
    "    f'postgresql://{postgres_settings[\"USER\"]}:{postgres_settings[\"PASSWORD\"]}@{postgres_settings[\"HOST\"]}:{postgres_settings[\"PORT\"]}/{postgres_settings[\"NAME\"]}'\n",
    ")\n"
   ],
   "metadata": {
    "collapsed": false,
    "ExecuteTime": {
     "end_time": "2025-01-15T21:47:41.669035600Z",
     "start_time": "2025-01-15T21:47:41.283952Z"
    }
   },
   "id": "82b4960ef8914e50"
  },
  {
   "cell_type": "code",
   "execution_count": 22,
   "outputs": [
    {
     "name": "stdout",
     "output_type": "stream",
     "text": [
      "Начало процесса загрузки данных: 2025-01-16 00:47:42.194476\n",
      "Количество строк в data_loader_omsdata до обработки: 658396\n"
     ]
    }
   ],
   "source": [
    "# Логирование времени\n",
    "start_time = datetime.datetime.now()\n",
    "print(f\"Начало процесса загрузки данных: {start_time}\")\n",
    "\n",
    "# Счетчики для отслеживания процесса\n",
    "row_counts = {}\n",
    "\n",
    "# Подсчёт строк в основной таблице до обработки\n",
    "with engine.connect() as connection:\n",
    "    initial_count_query = f\"SELECT COUNT(*) FROM {table_name};\"\n",
    "    row_counts[\"before_processing\"] = connection.execute(text(initial_count_query)).scalar()\n",
    "\n",
    "print(f\"Количество строк в {table_name} до обработки: {row_counts['before_processing']}\")"
   ],
   "metadata": {
    "collapsed": false,
    "ExecuteTime": {
     "end_time": "2025-01-15T21:47:42.962429900Z",
     "start_time": "2025-01-15T21:47:41.673034200Z"
    }
   },
   "id": "2dc6487db317fcab"
  },
  {
   "cell_type": "code",
   "execution_count": 23,
   "outputs": [
    {
     "name": "stdout",
     "output_type": "stream",
     "text": [
      "Количество строк в CSV после чтения и обработки: 597711\n"
     ]
    }
   ],
   "source": [
    "# Чтение и обработка CSV файла\n",
    "try:\n",
    "    df = pd.read_csv(file_path, sep=sep, dtype=str, encoding=encoding)\n",
    "except Exception as e:\n",
    "    print(f\"Ошибка при чтении CSV: {e}\")\n",
    "    raise\n",
    "\n",
    "# Переименование и фильтрация столбцов\n",
    "df = df[list(column_mapping.keys())].rename(columns=column_mapping)\n",
    "df.dropna(subset=[column_check], inplace=True)\n",
    "df.fillna('-', inplace=True)\n",
    "df = df.replace('`', '', regex=True)\n",
    "df.replace('\\u00A0', ' ', regex=True, inplace=True)\n",
    "df = df.astype(str)\n",
    "\n",
    "# Удаление дубликатов из DataFrame\n",
    "df = df.drop_duplicates(subset=columns_for_update)\n",
    "\n",
    "# Подсчёт строк после чтения CSV\n",
    "row_counts[\"after_reading_csv\"] = len(df)\n",
    "print(f\"Количество строк в CSV после чтения и обработки: {row_counts['after_reading_csv']}\")"
   ],
   "metadata": {
    "collapsed": false,
    "ExecuteTime": {
     "end_time": "2025-01-15T21:48:05.164592500Z",
     "start_time": "2025-01-15T21:47:42.938431300Z"
    }
   },
   "id": "83309f3d97723f3e"
  },
  {
   "cell_type": "code",
   "execution_count": 24,
   "outputs": [
    {
     "name": "stdout",
     "output_type": "stream",
     "text": [
      "Таблица temp_oms_data очищена\n"
     ]
    },
    {
     "data": {
      "text/plain": "711"
     },
     "execution_count": 24,
     "metadata": {},
     "output_type": "execute_result"
    }
   ],
   "source": [
    "# Проверка существования временной таблицы и её очистка\n",
    "with engine.connect() as connection:\n",
    "    exists = connection.execute(\n",
    "        text(f\"SELECT EXISTS (SELECT 1 FROM information_schema.tables WHERE table_name = '{table_name_temp}')\")\n",
    "    ).scalar()\n",
    "    if exists:\n",
    "        connection.execute(text(f\"TRUNCATE TABLE {table_name_temp};\"))\n",
    "        print(f\"Таблица {table_name_temp} очищена\")\n",
    "    else:\n",
    "        print(f\"Таблица {table_name_temp} отсутствует, будет создана автоматически при загрузке данных\")\n",
    "\n",
    "# Вставка новых данных во временную таблицу\n",
    "df.to_sql(table_name_temp, engine, if_exists='replace', index=False)\n"
   ],
   "metadata": {
    "collapsed": false,
    "ExecuteTime": {
     "end_time": "2025-01-15T21:48:52.911331800Z",
     "start_time": "2025-01-15T21:48:05.168596400Z"
    }
   },
   "id": "c0859eeae0455b17"
  },
  {
   "cell_type": "code",
   "execution_count": 25,
   "outputs": [
    {
     "name": "stdout",
     "output_type": "stream",
     "text": [
      "Индекс создан для data_loader_omsdata.\n",
      "Индекс создан для temp_oms_data.\n"
     ]
    }
   ],
   "source": [
    "# Создание индексов\n",
    "with engine.connect() as connection:\n",
    "    create_index_query = f\"\"\"\n",
    "    DO $$ BEGIN\n",
    "        IF NOT EXISTS (\n",
    "            SELECT 1 \n",
    "            FROM pg_indexes \n",
    "            WHERE schemaname = 'public' \n",
    "              AND tablename = '{table_name}' \n",
    "              AND indexname = 'idx_{table_name}_update'\n",
    "        ) THEN\n",
    "            CREATE INDEX idx_{table_name}_update\n",
    "            ON {table_name} ({', '.join(columns_for_update)});\n",
    "        END IF;\n",
    "    END $$;\n",
    "    \"\"\"\n",
    "    create_index_query_temp = f\"\"\"\n",
    "    DO $$ BEGIN\n",
    "        IF NOT EXISTS (\n",
    "            SELECT 1 \n",
    "            FROM pg_indexes \n",
    "            WHERE schemaname = 'public' \n",
    "              AND tablename = '{table_name_temp}' \n",
    "              AND indexname = 'idx_{table_name_temp}_update'\n",
    "        ) THEN\n",
    "            CREATE INDEX idx_{table_name_temp}_update\n",
    "            ON {table_name_temp} ({', '.join(columns_for_update)});\n",
    "        END IF;\n",
    "    END $$;\n",
    "    \"\"\"\n",
    "    connection.execute(text(create_index_query))\n",
    "    print(f\"Индекс создан для {table_name}.\")\n",
    "\n",
    "    connection.execute(text(create_index_query_temp))\n",
    "\n",
    "    print(f\"Индекс создан для {table_name_temp}.\")\n"
   ],
   "metadata": {
    "collapsed": false,
    "ExecuteTime": {
     "end_time": "2025-01-15T21:49:04.767079300Z",
     "start_time": "2025-01-15T21:48:52.903337900Z"
    }
   },
   "id": "9b7fc0a68dc14d64"
  },
  {
   "cell_type": "code",
   "execution_count": 26,
   "outputs": [
    {
     "name": "stdout",
     "output_type": "stream",
     "text": [
      "Количество строк для обновления: 597711\n",
      "Количество строк для добавления: 0\n"
     ]
    }
   ],
   "source": [
    "# Вычисление строк для обновления и вставки\n",
    "with engine.connect() as connection:\n",
    "    rows_to_update_query = f\"\"\"\n",
    "    SELECT COUNT(*)\n",
    "    FROM {table_name_temp} AS temp\n",
    "    INNER JOIN {table_name} AS target\n",
    "    ON { ' AND '.join([f'temp.{col} = target.{col}' for col in columns_for_update]) }\n",
    "    \"\"\"\n",
    "    row_counts[\"to_update\"] = connection.execute(text(rows_to_update_query)).scalar()\n",
    "\n",
    "    rows_to_insert_query = f\"\"\"\n",
    "    SELECT COUNT(*)\n",
    "    FROM {table_name_temp} AS temp\n",
    "    LEFT JOIN {table_name} AS target\n",
    "    ON { ' AND '.join([f'temp.{col} = target.{col}' for col in columns_for_update]) }\n",
    "    WHERE target.{columns_for_update[0]} IS NULL\n",
    "    \"\"\"\n",
    "    row_counts[\"to_insert\"] = connection.execute(text(rows_to_insert_query)).scalar()\n",
    "\n",
    "print(f\"Количество строк для обновления: {row_counts['to_update']}\")\n",
    "print(f\"Количество строк для добавления: {row_counts['to_insert']}\")"
   ],
   "metadata": {
    "collapsed": false,
    "ExecuteTime": {
     "end_time": "2025-01-15T21:49:06.270051Z",
     "start_time": "2025-01-15T21:49:04.755080300Z"
    }
   },
   "id": "f679e5833ac54ce1"
  },
  {
   "cell_type": "code",
   "execution_count": 27,
   "outputs": [],
   "source": [
    "# Получение недостающих столбцов\n",
    "with engine.connect() as connection:\n",
    "    table_columns_query = f\"\"\"\n",
    "    SELECT column_name\n",
    "    FROM information_schema.columns\n",
    "    WHERE table_name = '{table_name}'\n",
    "    \"\"\"\n",
    "    table_columns = [row[0] for row in connection.execute(text(table_columns_query)).fetchall()]\n",
    "\n",
    "    temp_table_columns_query = f\"\"\"\n",
    "    SELECT column_name\n",
    "    FROM information_schema.columns\n",
    "    WHERE table_name = '{table_name_temp}'\n",
    "    \"\"\"\n",
    "    temp_table_columns = [row[0] for row in connection.execute(text(temp_table_columns_query)).fetchall()]\n",
    "\n",
    "missing_columns = [col for col in table_columns if col not in temp_table_columns and col != 'id']\n"
   ],
   "metadata": {
    "collapsed": false,
    "ExecuteTime": {
     "end_time": "2025-01-15T21:49:06.283115400Z",
     "start_time": "2025-01-15T21:49:06.260050800Z"
    }
   },
   "id": "2d231be012a038b6"
  },
  {
   "cell_type": "code",
   "execution_count": 28,
   "outputs": [
    {
     "name": "stdout",
     "output_type": "stream",
     "text": [
      "Данные успешно вставлены/обновлены в таблице data_loader_omsdata.\n"
     ]
    }
   ],
   "source": [
    "# Формирование и выполнение SQL-запроса\n",
    "merge_query = f\"\"\"\n",
    "INSERT INTO {table_name} ({', '.join(column_mapping.values()) + ', ' + ', '.join(missing_columns)})\n",
    "SELECT {', '.join(column_mapping.values())}, {', '.join([f\"'-' AS {col}\" for col in missing_columns])}\n",
    "FROM {table_name_temp}\n",
    "ON CONFLICT ({', '.join(columns_for_update)})\n",
    "DO UPDATE SET\n",
    "{', '.join([f\"{col} = EXCLUDED.{col}\" for col in column_mapping.values() if col not in columns_for_update])},\n",
    "{', '.join([f\"{col} = COALESCE(EXCLUDED.{col}, '-')\" for col in missing_columns])};\n",
    "\"\"\"\n",
    "\n",
    "# Удаляем символы новой строки\n",
    "merge_query = \" \".join(merge_query.split())\n",
    "\n",
    "\n",
    "try:\n",
    "    with engine.begin() as connection:\n",
    "        connection.execute(text(merge_query))\n",
    "\n",
    "    print(f\"Данные успешно вставлены/обновлены в таблице {table_name}.\")\n",
    "except Exception as e:\n",
    "    print(f\"Ошибка при выполнении merge-запроса: {e}\")"
   ],
   "metadata": {
    "collapsed": false,
    "ExecuteTime": {
     "end_time": "2025-01-15T21:49:36.812928200Z",
     "start_time": "2025-01-15T21:49:06.275117500Z"
    }
   },
   "id": "b6372c9287e7d9a6"
  },
  {
   "cell_type": "code",
   "execution_count": 29,
   "outputs": [
    {
     "name": "stdout",
     "output_type": "stream",
     "text": [
      "Количество строк в data_loader_omsdata после загрузки и обновления: 658396\n",
      "Итоговые показатели обработки:\n",
      "1. Количество строк в data_loader_omsdata до обработки: 658396\n",
      "2. Количество строк в CSV после чтения и обработки: 597711\n",
      "3. Количество строк обновленных в data_loader_omsdata: 597711\n",
      "4. Количество строк добавленных в data_loader_omsdata: 0\n",
      "5. Количество строк в data_loader_omsdata после загрузки и обновления: 658396\n",
      "Общее время выполнения: 0:01:55.211622\n"
     ]
    }
   ],
   "source": [
    "# Подсчёт строк после обработки\n",
    "with engine.connect() as connection:\n",
    "    final_count_query = f\"SELECT COUNT(*) FROM {table_name};\"\n",
    "    row_counts[\"after_processing\"] = connection.execute(text(final_count_query)).scalar()\n",
    "\n",
    "print(f\"Количество строк в {table_name} после загрузки и обновления: {row_counts['after_processing']}\")\n",
    "\n",
    "# Итоговая статистика\n",
    "end_time = datetime.datetime.now()\n",
    "print(\"Итоговые показатели обработки:\")\n",
    "print(f\"1. Количество строк в {table_name} до обработки: {row_counts['before_processing']}\")\n",
    "print(f\"2. Количество строк в CSV после чтения и обработки: {row_counts['after_reading_csv']}\")\n",
    "print(f\"3. Количество строк обновленных в {table_name}: {row_counts['to_update']}\")\n",
    "print(f\"4. Количество строк добавленных в {table_name}: {row_counts['to_insert']}\")\n",
    "print(f\"5. Количество строк в {table_name} после загрузки и обновления: {row_counts['after_processing']}\")\n",
    "print(f\"Общее время выполнения: {end_time - start_time}\")"
   ],
   "metadata": {
    "collapsed": false,
    "ExecuteTime": {
     "end_time": "2025-01-15T21:49:37.419614900Z",
     "start_time": "2025-01-15T21:49:36.804927500Z"
    }
   },
   "id": "c4c128e3afd0f4f9"
  }
 ],
 "metadata": {
  "kernelspec": {
   "display_name": "Python 3",
   "language": "python",
   "name": "python3"
  },
  "language_info": {
   "codemirror_mode": {
    "name": "ipython",
    "version": 2
   },
   "file_extension": ".py",
   "mimetype": "text/x-python",
   "name": "python",
   "nbconvert_exporter": "python",
   "pygments_lexer": "ipython2",
   "version": "2.7.6"
  }
 },
 "nbformat": 4,
 "nbformat_minor": 5
}
